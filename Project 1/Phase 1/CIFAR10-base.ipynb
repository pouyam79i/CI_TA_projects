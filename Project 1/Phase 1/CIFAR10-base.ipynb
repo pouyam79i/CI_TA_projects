{
 "cells": [
  {
   "cell_type": "markdown",
   "metadata": {},
   "source": [
    "### Install Required Libs"
   ]
  },
  {
   "cell_type": "code",
   "execution_count": null,
   "metadata": {},
   "outputs": [],
   "source": [
    "# Install required libs (recommended python version 3.10)\n",
    "%pip install numpy\n",
    "%pip install matplotlib\n",
    "%pip install torch torchvision torchaudio"
   ]
  },
  {
   "cell_type": "markdown",
   "metadata": {},
   "source": [
    "### Import Libs"
   ]
  },
  {
   "cell_type": "code",
   "execution_count": 53,
   "metadata": {},
   "outputs": [],
   "source": [
    "import torch\n",
    "import torch.nn as nn\n",
    "import torch.nn.functional as F\n",
    "\n",
    "from torchvision import datasets, transforms\n",
    "from torch.utils.data import DataLoader\n",
    "\n",
    "import matplotlib.pyplot as plt\n"
   ]
  },
  {
   "cell_type": "markdown",
   "metadata": {},
   "source": [
    "### Download CIFAR-10 Dataset and Transform to Tensor"
   ]
  },
  {
   "cell_type": "code",
   "execution_count": 54,
   "metadata": {},
   "outputs": [],
   "source": [
    "transform = transforms.ToTensor()\n",
    "\n",
    "\"Set download=True to download dataset online\" \n",
    "data_path = './data_cifar/'\n",
    "cifar10_train = datasets.CIFAR10(data_path, train=True, download=False, transform=transform)\n",
    "cifar10_test = datasets.CIFAR10(data_path, train=False, download=False, transform=transform)"
   ]
  },
  {
   "cell_type": "markdown",
   "metadata": {},
   "source": [
    "### A Brief View on Data"
   ]
  },
  {
   "cell_type": "code",
   "execution_count": null,
   "metadata": {},
   "outputs": [],
   "source": [
    "# size of training and test sets\n",
    "print(\"Training: \", len(cifar10_train))\n",
    "print(\"Testing: \", len(cifar10_test))\n",
    "\n",
    "# type of train and test: it is a collection of tuple(tensor, label)\n",
    "print(type(cifar10_train[0]))\n",
    "\n",
    "# label, as you know, is the class of image\n",
    "# tensor contains image data (You will learn more about Tensor later)\n",
    "image, label = cifar10_train[0]\n",
    "print(type(image))\n",
    "\n",
    "# lets check the dimension - it is a 32x32 RGB image\n",
    "print(image.shape)\n",
    "\n",
    "# lets see what classes we have\n",
    "classes = cifar10_train.classes\n",
    "print(classes)\n",
    "print(label)\n",
    "print(classes[label])\n"
   ]
  },
  {
   "cell_type": "markdown",
   "metadata": {},
   "source": [
    "### Define Batch\n",
    "It is important to understand that to build the Neural Network we will work with a large number of parameters. For this reason, it makes sense to load training data in batches."
   ]
  },
  {
   "cell_type": "code",
   "execution_count": 57,
   "metadata": {},
   "outputs": [],
   "source": [
    "\"TODO: fill the blank area\"\n",
    "TRAIN_BATCH_SIZE = ...\n",
    "TEST_BATCH_SIZE = ...\n",
    "\n",
    "torch.manual_seed(80)\n",
    "train_loader = DataLoader(cifar10_train, batch_size=TRAIN_BATCH_SIZE, shuffle=True)\n",
    "test_loader = DataLoader(cifar10_test, batch_size=TEST_BATCH_SIZE, shuffle=False)"
   ]
  },
  {
   "cell_type": "markdown",
   "metadata": {},
   "source": [
    "### Define Model\n",
    "Here you need to define your model architecture, use your knowledge of ANN to design one."
   ]
  },
  {
   "cell_type": "code",
   "execution_count": 68,
   "metadata": {},
   "outputs": [],
   "source": [
    "class Model(nn.Module):\n",
    "\n",
    "    def __init__(self):\n",
    "        super().__init__()\n",
    "        \"TODO: define layers of model here\"\n",
    "        \n",
    "    def forward(self, X):\n",
    "        \"TODO: define your model forward path\"\n",
    "        pass"
   ]
  },
  {
   "cell_type": "markdown",
   "metadata": {},
   "source": [
    "### Create Model"
   ]
  },
  {
   "cell_type": "code",
   "execution_count": null,
   "metadata": {},
   "outputs": [],
   "source": [
    "model = Model()\n",
    "model"
   ]
  },
  {
   "cell_type": "markdown",
   "metadata": {},
   "source": [
    "### Choose a Loss Function"
   ]
  },
  {
   "cell_type": "code",
   "execution_count": 75,
   "metadata": {},
   "outputs": [],
   "source": [
    "\"TODO: set a proper loss function\"\n",
    "criterion = ..."
   ]
  },
  {
   "cell_type": "markdown",
   "metadata": {},
   "source": [
    "### Choose an Optimizer"
   ]
  },
  {
   "cell_type": "code",
   "execution_count": 76,
   "metadata": {},
   "outputs": [],
   "source": [
    "\"TODO: set a proper optimizer\"\n",
    "optimizer = ..."
   ]
  },
  {
   "cell_type": "markdown",
   "metadata": {},
   "source": [
    "### Training Model\n",
    "After configuring all required parameters, it is time to train your model!"
   ]
  },
  {
   "cell_type": "code",
   "execution_count": null,
   "metadata": {},
   "outputs": [],
   "source": [
    "\"TODO: set an optimal epoch\"\n",
    "EPOCHS = ...\n",
    "\n",
    "\" you do not need to change the rest of this code\"\n",
    "\n",
    "test_correct = []\n",
    "train_correct  = []\n",
    "\n",
    "for i in range(EPOCHS):\n",
    "  \n",
    "    trn_corr = 0\n",
    "    tst_corr = 0\n",
    "    batch_corr = 0\n",
    "    \n",
    "    for X_train, y_train in train_loader:\n",
    "\n",
    "      y_pred = model(X_train.view(TRAIN_BATCH_SIZE, -1))\n",
    "      loss = criterion(y_pred, y_train)\n",
    "      \n",
    "      predicted = torch.max(y_pred.data, 1)[1]\n",
    "      batch_corr = (predicted == y_train).sum()\n",
    "      trn_corr += batch_corr\n",
    "      \n",
    "      optimizer.zero_grad()\n",
    "      loss.backward()\n",
    "      optimizer.step()\n",
    "      \n",
    "      train_correct.append(trn_corr)\n",
    "    \n",
    "    with torch.no_grad():\n",
    "      \n",
    "      for X_test, y_test in test_loader:\n",
    "        \n",
    "        y_val = model(X_test.view(TEST_BATCH_SIZE, -1))\n",
    "        \n",
    "        predicted = torch.max(y_val.data, 1)[1]\n",
    "        tst_corr += (predicted == y_test).sum()\n",
    "     \n",
    "      test_correct.append(tst_corr)\n"
   ]
  },
  {
   "cell_type": "markdown",
   "metadata": {},
   "source": [
    "### Evaluation\n",
    "Here you can see your model result on test set."
   ]
  },
  {
   "cell_type": "code",
   "execution_count": null,
   "metadata": {},
   "outputs": [],
   "source": [
    "train_accuracy =[t/TRAIN_BATCH_SIZE for t in train_correct ] \n",
    "test_accuracy =[t/TEST_BATCH_SIZE for t in test_correct ] \n",
    "\n",
    "plt.plot(train_accuracy, label= \"Training accuracy\")\n",
    "plt.plot(test_accuracy, label= \"Test accuracy\")\n",
    "plt.legend()"
   ]
  }
 ],
 "metadata": {
  "kernelspec": {
   "display_name": "Python 3",
   "language": "python",
   "name": "python3"
  },
  "language_info": {
   "codemirror_mode": {
    "name": "ipython",
    "version": 3
   },
   "file_extension": ".py",
   "mimetype": "text/x-python",
   "name": "python",
   "nbconvert_exporter": "python",
   "pygments_lexer": "ipython3",
   "version": "3.10.10"
  }
 },
 "nbformat": 4,
 "nbformat_minor": 2
}
