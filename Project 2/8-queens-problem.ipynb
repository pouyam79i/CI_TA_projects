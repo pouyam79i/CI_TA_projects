{
 "cells": [
  {
   "cell_type": "code",
   "execution_count": null,
   "outputs": [],
   "source": [
    "import random\n",
    "from scipy import special\n",
    "import itertools"
   ],
   "metadata": {
    "collapsed": false
   },
   "id": "95d3f1324b0501e6"
  },
  {
   "cell_type": "code",
   "execution_count": null,
   "outputs": [],
   "source": [
    "def generate_population():\n",
    "    population = []\n",
    "\n",
    "    for individual in range(POPULATION_SIZE):\n",
    "        new = [random.randrange(NUM_QUEENS) for idx in range(NUM_QUEENS)]\n",
    "        population.append(new)\n",
    "    \n",
    "    return population"
   ],
   "metadata": {
    "collapsed": false
   },
   "id": "a66475735b552b41"
  },
  {
   "cell_type": "code",
   "execution_count": null,
   "outputs": [],
   "source": [
    "def selection(population):\n",
    "    parents = []\n",
    "    \n",
    "    #TODO: choose the parents for the evolution\n",
    "            \n",
    "    \n",
    "    return parents"
   ],
   "metadata": {
    "collapsed": false
   },
   "id": "261340cc4efeca3"
  },
  {
   "cell_type": "code",
   "execution_count": null,
   "outputs": [],
   "source": [
    "def crossover(parents):\n",
    "    \n",
    "    offsprings = []\n",
    "    \n",
    "    #TODO: implement you crossover algorithm\n",
    "    \n",
    "    return offsprings"
   ],
   "metadata": {
    "collapsed": false
   },
   "id": "a140f7ad9542ffba"
  },
  {
   "cell_type": "code",
   "execution_count": null,
   "outputs": [],
   "source": [
    "def mutate(seq):\n",
    "    \n",
    "    #TODO: implement mutate\n",
    "    \n",
    "    return seq"
   ],
   "metadata": {
    "collapsed": false
   },
   "id": "7f3f19b5790d8e8e"
  },
  {
   "cell_type": "code",
   "execution_count": null,
   "outputs": [],
   "source": [
    "def evolution(population):\n",
    "    \n",
    "    #TODO: use the methods you implemented to create new generation\n",
    "    \n",
    "    \n",
    "    return new_gen"
   ],
   "metadata": {
    "collapsed": false
   },
   "id": "612c8debebd5f0ea"
  },
  {
   "cell_type": "code",
   "execution_count": null,
   "outputs": [],
   "source": [
    "def fitness_score(seq):\n",
    "    fit_score = 0\n",
    "    \n",
    "    #TODO: calculate fitness score\n",
    "    \n",
    "    return fit_score"
   ],
   "metadata": {
    "collapsed": false
   },
   "id": "15c492631c51bd96"
  },
  {
   "cell_type": "code",
   "execution_count": null,
   "outputs": [],
   "source": [
    "# The genetic algorithm\n",
    "\n",
    "generation = 0\n",
    "solution_is_found = False\n",
    "fitness = []\n",
    "\n",
    "population = generate_population()\n",
    "    \n",
    "while not solution_is_found:\n",
    "    population = evolution(population)\n",
    "    population_fitness = 0\n",
    "    for chromosome in population:\n",
    "        fitness_sc = fitness_score(chromosome)\n",
    "        population_fitness += fitness_sc\n",
    "        if fitness_sc == special.comb(NUM_QUEENS, 2):\n",
    "            solution_is_found = True\n",
    "    generation += 1\n",
    "    population_fitness /= population.__len__()\n",
    "    fitness.append(population_fitness)"
   ],
   "metadata": {
    "collapsed": false
   },
   "id": "392ff74d8fb7ab3e"
  },
  {
   "cell_type": "code",
   "execution_count": null,
   "outputs": [],
   "source": [
    "import matplotlib.pyplot as plt\n",
    "import seaborn as sns\n",
    "\n",
    "\n",
    "plt.bar(range(generation), fitness, color='skyblue')\n",
    "plt.xlabel('Generation', fontsize=20)\n",
    "plt.ylabel('Average Fitness', fontsize=20)\n",
    "plt.title('Fitness over Generations', fontsize=20)\n",
    "plt.show()"
   ],
   "metadata": {
    "collapsed": false
   },
   "id": "62a19a5f372d7885"
  }
 ],
 "metadata": {
  "kernelspec": {
   "display_name": "Python 3",
   "language": "python",
   "name": "python3"
  },
  "language_info": {
   "codemirror_mode": {
    "name": "ipython",
    "version": 2
   },
   "file_extension": ".py",
   "mimetype": "text/x-python",
   "name": "python",
   "nbconvert_exporter": "python",
   "pygments_lexer": "ipython2",
   "version": "2.7.6"
  }
 },
 "nbformat": 4,
 "nbformat_minor": 5
}
